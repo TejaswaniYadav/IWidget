{
 "cells": [
  {
   "cell_type": "markdown",
   "id": "d5a947a8",
   "metadata": {},
   "source": [
    "# Submitted by: Tejaswani Yadav"
   ]
  },
  {
   "cell_type": "code",
   "execution_count": 18,
   "id": "268f7200",
   "metadata": {},
   "outputs": [],
   "source": [
    "#importing all the neccesary libariries\n",
    "import pandas as pd \n",
    "import numpy as np \n",
    "import seaborn as sns \n",
    "import matplotlib.pyplot as plt \n",
    "from ipywidgets import interact, interactive, fixed, interact_manual\n",
    "import ipywidgets as widgets\n"
   ]
  },
  {
   "cell_type": "code",
   "execution_count": 19,
   "id": "ef0bbcd6",
   "metadata": {},
   "outputs": [],
   "source": [
    "# Reading the csv file\n",
    "df = pd.read_csv('World_Indicators.csv')"
   ]
  },
  {
   "cell_type": "code",
   "execution_count": 20,
   "id": "665818d6",
   "metadata": {},
   "outputs": [
    {
     "data": {
      "text/html": [
       "<div>\n",
       "<style scoped>\n",
       "    .dataframe tbody tr th:only-of-type {\n",
       "        vertical-align: middle;\n",
       "    }\n",
       "\n",
       "    .dataframe tbody tr th {\n",
       "        vertical-align: top;\n",
       "    }\n",
       "\n",
       "    .dataframe thead th {\n",
       "        text-align: right;\n",
       "    }\n",
       "</style>\n",
       "<table border=\"1\" class=\"dataframe\">\n",
       "  <thead>\n",
       "    <tr style=\"text-align: right;\">\n",
       "      <th></th>\n",
       "      <th>Birth Rate</th>\n",
       "      <th>Business Tax Rate</th>\n",
       "      <th>CO2 Emissions</th>\n",
       "      <th>Country</th>\n",
       "      <th>Days to Start Business</th>\n",
       "      <th>Ease of Business</th>\n",
       "      <th>Energy Usage</th>\n",
       "      <th>GDP</th>\n",
       "      <th>Health Exp % GDP</th>\n",
       "      <th>Health Exp/Capita</th>\n",
       "      <th>...</th>\n",
       "      <th>Number of Records</th>\n",
       "      <th>Population 0-14</th>\n",
       "      <th>Population 15-64</th>\n",
       "      <th>Population 65+</th>\n",
       "      <th>Population Total</th>\n",
       "      <th>Population Urban</th>\n",
       "      <th>Region</th>\n",
       "      <th>Tourism Inbound</th>\n",
       "      <th>Tourism Outbound</th>\n",
       "      <th>Year</th>\n",
       "    </tr>\n",
       "  </thead>\n",
       "  <tbody>\n",
       "    <tr>\n",
       "      <th>0</th>\n",
       "      <td>0.020</td>\n",
       "      <td>NaN</td>\n",
       "      <td>87931.0</td>\n",
       "      <td>Algeria</td>\n",
       "      <td>NaN</td>\n",
       "      <td>NaN</td>\n",
       "      <td>26998.0</td>\n",
       "      <td>5.479006e+10</td>\n",
       "      <td>0.035</td>\n",
       "      <td>60.0</td>\n",
       "      <td>...</td>\n",
       "      <td>1</td>\n",
       "      <td>0.342</td>\n",
       "      <td>0.619</td>\n",
       "      <td>0.039</td>\n",
       "      <td>31719449</td>\n",
       "      <td>0.599</td>\n",
       "      <td>Africa</td>\n",
       "      <td>102000000.0</td>\n",
       "      <td>193000000.0</td>\n",
       "      <td>12/1/2000</td>\n",
       "    </tr>\n",
       "    <tr>\n",
       "      <th>1</th>\n",
       "      <td>0.050</td>\n",
       "      <td>NaN</td>\n",
       "      <td>9542.0</td>\n",
       "      <td>Angola</td>\n",
       "      <td>NaN</td>\n",
       "      <td>NaN</td>\n",
       "      <td>7499.0</td>\n",
       "      <td>9.129595e+09</td>\n",
       "      <td>0.034</td>\n",
       "      <td>22.0</td>\n",
       "      <td>...</td>\n",
       "      <td>1</td>\n",
       "      <td>0.476</td>\n",
       "      <td>0.499</td>\n",
       "      <td>0.025</td>\n",
       "      <td>13924930</td>\n",
       "      <td>0.324</td>\n",
       "      <td>Africa</td>\n",
       "      <td>34000000.0</td>\n",
       "      <td>146000000.0</td>\n",
       "      <td>12/1/2000</td>\n",
       "    </tr>\n",
       "    <tr>\n",
       "      <th>2</th>\n",
       "      <td>0.043</td>\n",
       "      <td>NaN</td>\n",
       "      <td>1617.0</td>\n",
       "      <td>Benin</td>\n",
       "      <td>NaN</td>\n",
       "      <td>NaN</td>\n",
       "      <td>1983.0</td>\n",
       "      <td>2.359122e+09</td>\n",
       "      <td>0.043</td>\n",
       "      <td>15.0</td>\n",
       "      <td>...</td>\n",
       "      <td>1</td>\n",
       "      <td>0.454</td>\n",
       "      <td>0.517</td>\n",
       "      <td>0.029</td>\n",
       "      <td>6949366</td>\n",
       "      <td>0.383</td>\n",
       "      <td>Africa</td>\n",
       "      <td>77000000.0</td>\n",
       "      <td>50000000.0</td>\n",
       "      <td>12/1/2000</td>\n",
       "    </tr>\n",
       "    <tr>\n",
       "      <th>3</th>\n",
       "      <td>0.027</td>\n",
       "      <td>NaN</td>\n",
       "      <td>4276.0</td>\n",
       "      <td>Botswana</td>\n",
       "      <td>NaN</td>\n",
       "      <td>NaN</td>\n",
       "      <td>1836.0</td>\n",
       "      <td>5.788312e+09</td>\n",
       "      <td>0.047</td>\n",
       "      <td>152.0</td>\n",
       "      <td>...</td>\n",
       "      <td>1</td>\n",
       "      <td>0.383</td>\n",
       "      <td>0.587</td>\n",
       "      <td>0.029</td>\n",
       "      <td>1755375</td>\n",
       "      <td>0.532</td>\n",
       "      <td>Africa</td>\n",
       "      <td>227000000.0</td>\n",
       "      <td>209000000.0</td>\n",
       "      <td>12/1/2000</td>\n",
       "    </tr>\n",
       "    <tr>\n",
       "      <th>4</th>\n",
       "      <td>0.046</td>\n",
       "      <td>NaN</td>\n",
       "      <td>1041.0</td>\n",
       "      <td>Burkina Faso</td>\n",
       "      <td>NaN</td>\n",
       "      <td>NaN</td>\n",
       "      <td>NaN</td>\n",
       "      <td>2.610959e+09</td>\n",
       "      <td>0.051</td>\n",
       "      <td>12.0</td>\n",
       "      <td>...</td>\n",
       "      <td>1</td>\n",
       "      <td>0.468</td>\n",
       "      <td>0.505</td>\n",
       "      <td>0.028</td>\n",
       "      <td>11607944</td>\n",
       "      <td>0.178</td>\n",
       "      <td>Africa</td>\n",
       "      <td>23000000.0</td>\n",
       "      <td>30000000.0</td>\n",
       "      <td>12/1/2000</td>\n",
       "    </tr>\n",
       "  </tbody>\n",
       "</table>\n",
       "<p>5 rows × 27 columns</p>\n",
       "</div>"
      ],
      "text/plain": [
       "   Birth Rate  Business Tax Rate  CO2 Emissions       Country  \\\n",
       "0       0.020                NaN        87931.0       Algeria   \n",
       "1       0.050                NaN         9542.0        Angola   \n",
       "2       0.043                NaN         1617.0         Benin   \n",
       "3       0.027                NaN         4276.0      Botswana   \n",
       "4       0.046                NaN         1041.0  Burkina Faso   \n",
       "\n",
       "   Days to Start Business  Ease of Business  Energy Usage           GDP  \\\n",
       "0                     NaN               NaN       26998.0  5.479006e+10   \n",
       "1                     NaN               NaN        7499.0  9.129595e+09   \n",
       "2                     NaN               NaN        1983.0  2.359122e+09   \n",
       "3                     NaN               NaN        1836.0  5.788312e+09   \n",
       "4                     NaN               NaN           NaN  2.610959e+09   \n",
       "\n",
       "   Health Exp % GDP  Health Exp/Capita  ...  Number of Records  \\\n",
       "0             0.035               60.0  ...                  1   \n",
       "1             0.034               22.0  ...                  1   \n",
       "2             0.043               15.0  ...                  1   \n",
       "3             0.047              152.0  ...                  1   \n",
       "4             0.051               12.0  ...                  1   \n",
       "\n",
       "   Population 0-14  Population 15-64  Population 65+  Population Total  \\\n",
       "0            0.342             0.619           0.039          31719449   \n",
       "1            0.476             0.499           0.025          13924930   \n",
       "2            0.454             0.517           0.029           6949366   \n",
       "3            0.383             0.587           0.029           1755375   \n",
       "4            0.468             0.505           0.028          11607944   \n",
       "\n",
       "   Population Urban  Region  Tourism Inbound  Tourism Outbound       Year  \n",
       "0             0.599  Africa      102000000.0       193000000.0  12/1/2000  \n",
       "1             0.324  Africa       34000000.0       146000000.0  12/1/2000  \n",
       "2             0.383  Africa       77000000.0        50000000.0  12/1/2000  \n",
       "3             0.532  Africa      227000000.0       209000000.0  12/1/2000  \n",
       "4             0.178  Africa       23000000.0        30000000.0  12/1/2000  \n",
       "\n",
       "[5 rows x 27 columns]"
      ]
     },
     "execution_count": 20,
     "metadata": {},
     "output_type": "execute_result"
    }
   ],
   "source": [
    "# Displaying the top 5 records of the dataframe\n",
    "df.head(5)"
   ]
  },
  {
   "cell_type": "code",
   "execution_count": 21,
   "id": "c6fd8ab1",
   "metadata": {},
   "outputs": [],
   "source": [
    "# handling the missing values buy filling the na values with the upcoming next value.\n",
    "dfbfill=df.fillna(method='bfill')"
   ]
  },
  {
   "cell_type": "code",
   "execution_count": 22,
   "id": "e8c7ab12",
   "metadata": {},
   "outputs": [],
   "source": [
    "#Filling the na values with median value the column\n",
    "dfbfill['CO2 Emissions']=dfbfill['CO2 Emissions'].fillna(dfbfill['CO2 Emissions'].median())"
   ]
  },
  {
   "cell_type": "code",
   "execution_count": 23,
   "id": "b537c3a8",
   "metadata": {},
   "outputs": [],
   "source": [
    "# filling the na values with previous cell value\n",
    "dfbfillFinal=dfbfill.fillna(method='pad')"
   ]
  },
  {
   "cell_type": "code",
   "execution_count": 24,
   "id": "1b08aa2c",
   "metadata": {},
   "outputs": [
    {
     "data": {
      "text/plain": [
       "array(['Africa', 'Asia', 'Europe', 'Middle East', 'Oceania',\n",
       "       'The Americas'], dtype=object)"
      ]
     },
     "execution_count": 24,
     "metadata": {},
     "output_type": "execute_result"
    }
   ],
   "source": [
    "# finding the main region values of the dataset\n",
    "np.unique(dfbfillFinal['Region'])"
   ]
  },
  {
   "cell_type": "code",
   "execution_count": 25,
   "id": "3b30fd3f",
   "metadata": {},
   "outputs": [
    {
     "data": {
      "text/plain": [
       "Index(['Birth Rate', 'Business Tax Rate', 'CO2 Emissions',\n",
       "       'Days to Start Business', 'Ease of Business', 'Energy Usage', 'GDP',\n",
       "       'Health Exp % GDP', 'Health Exp/Capita', 'Hours to do Tax',\n",
       "       'Infant Mortality Rate', 'Internet Usage', 'Lending Interest',\n",
       "       'Life Expectancy Female', 'Life Expectancy Male', 'Mobile Phone Usage',\n",
       "       'Number of Records', 'Population 0-14', 'Population 15-64',\n",
       "       'Population 65+', 'Population Total', 'Population Urban',\n",
       "       'Tourism Inbound', 'Tourism Outbound'],\n",
       "      dtype='object')"
      ]
     },
     "execution_count": 25,
     "metadata": {},
     "output_type": "execute_result"
    }
   ],
   "source": [
    "# finding out the numeric columns \n",
    "dfbfillFinal.select_dtypes(include = 'number').columns"
   ]
  },
  {
   "cell_type": "code",
   "execution_count": 26,
   "id": "34d5d1b7",
   "metadata": {},
   "outputs": [],
   "source": [
    "# Storing the numeric columns into a list \n",
    "NumericColumnNames=['Birth Rate', 'Business Tax Rate', 'CO2 Emissions',\n",
    "       'Days to Start Business', 'Ease of Business', 'Energy Usage', 'GDP',\n",
    "       'Health Exp % GDP', 'Health Exp/Capita', 'Hours to do Tax',\n",
    "       'Infant Mortality Rate', 'Internet Usage', 'Lending Interest',\n",
    "       'Life Expectancy Female', 'Life Expectancy Male', 'Mobile Phone Usage',\n",
    "       'Number of Records', 'Population 0-14', 'Population 15-64',\n",
    "       'Population 65+', 'Population Total', 'Population Urban',\n",
    "       'Tourism Inbound', 'Tourism Outbound']"
   ]
  },
  {
   "cell_type": "code",
   "execution_count": 27,
   "id": "b0b0b42d",
   "metadata": {},
   "outputs": [],
   "source": [
    "# Coverting the Year into date time type \n",
    "dfbfillFinal['Year']=pd.to_datetime(dfbfillFinal['Year'])"
   ]
  },
  {
   "cell_type": "code",
   "execution_count": 28,
   "id": "b1e2eb03",
   "metadata": {},
   "outputs": [],
   "source": [
    "# Selecting the year from the year along with date\n",
    "dfbfillFinal['Year'] = dfbfillFinal['Year'].dt.year"
   ]
  },
  {
   "cell_type": "code",
   "execution_count": 29,
   "id": "b6db54dc",
   "metadata": {},
   "outputs": [],
   "source": [
    "#dfbfillFinal.head(10)"
   ]
  },
  {
   "cell_type": "code",
   "execution_count": 30,
   "id": "858d0928",
   "metadata": {},
   "outputs": [
    {
     "data": {
      "text/plain": [
       "array([2000, 2001, 2002, 2003, 2004, 2005, 2006, 2007, 2008, 2009, 2010,\n",
       "       2011, 2012], dtype=int64)"
      ]
     },
     "execution_count": 30,
     "metadata": {},
     "output_type": "execute_result"
    }
   ],
   "source": [
    "# Finding the unique years of the dataset \n",
    "np.unique(dfbfillFinal['Year'])"
   ]
  },
  {
   "cell_type": "code",
   "execution_count": 31,
   "id": "a06e4a7d",
   "metadata": {},
   "outputs": [],
   "source": [
    "# Storing the year into a list\n",
    "year=[2000, 2001, 2002, 2003, 2004, 2005, 2006, 2007, 2008, 2009, 2010,\n",
    "       2011, 2012]"
   ]
  },
  {
   "cell_type": "code",
   "execution_count": 32,
   "id": "4bfae4b3",
   "metadata": {},
   "outputs": [],
   "source": [
    "# Creating function for the interact\n",
    "def plt_func(xcol,ycol,xlog,ylog,year):\n",
    "    df1=dfbfillFinal[dfbfillFinal['Year']==year] # Selecting the particular year data from the entire dataframe\n",
    "    plt.figure(figsize=(8,8))\n",
    "    splt=sns.scatterplot(data=df1, x=xcol, y=ycol, hue=\"Region\")#Making the scatterplot from the selected data and coloring the points according to the region\n",
    "    plt.legend(loc='upper left', title='Region')# Putting the legend on the upper left corner\n",
    "    \n",
    "    if ylog:#Handling the checkbox\n",
    "        splt.set(yscale=\"log\")\n",
    "    if xlog:\n",
    "        splt.set(xscale=\"log\")\n",
    "    "
   ]
  },
  {
   "cell_type": "code",
   "execution_count": 33,
   "id": "09164f99",
   "metadata": {},
   "outputs": [
    {
     "data": {
      "application/vnd.jupyter.widget-view+json": {
       "model_id": "e3b7bf2f09364410bc4411fef74c9905",
       "version_major": 2,
       "version_minor": 0
      },
      "text/plain": [
       "interactive(children=(Dropdown(description='xcol', index=6, options=('Birth Rate', 'Business Tax Rate', 'CO2 E…"
      ]
     },
     "metadata": {},
     "output_type": "display_data"
    },
    {
     "data": {
      "text/plain": [
       "<function __main__.plt_func(xcol, ycol, xlog, ylog, year)>"
      ]
     },
     "execution_count": 33,
     "metadata": {},
     "output_type": "execute_result"
    }
   ],
   "source": [
    "#Creating the plot with xcol and ycol dropdown, xlog and ylog checkbox and the slider for year\n",
    "interact(plt_func,\n",
    "         xcol = widgets.Dropdown(\n",
    "                 options = NumericColumnNames,value='GDP'\n",
    "                 ),\n",
    "         ycol = widgets.Dropdown(\n",
    "                options = NumericColumnNames,value='Energy Usage'\n",
    "                 ),\n",
    "         xlog=True,\n",
    "         ylog=True,\n",
    "         \n",
    "         year=(year[0],\n",
    "               year[-1]))"
   ]
  },
  {
   "cell_type": "code",
   "execution_count": null,
   "id": "ebd101a6",
   "metadata": {},
   "outputs": [],
   "source": []
  },
  {
   "cell_type": "code",
   "execution_count": null,
   "id": "f25c5316",
   "metadata": {},
   "outputs": [],
   "source": []
  }
 ],
 "metadata": {
  "kernelspec": {
   "display_name": "Python 3",
   "language": "python",
   "name": "python3"
  },
  "language_info": {
   "codemirror_mode": {
    "name": "ipython",
    "version": 3
   },
   "file_extension": ".py",
   "mimetype": "text/x-python",
   "name": "python",
   "nbconvert_exporter": "python",
   "pygments_lexer": "ipython3",
   "version": "3.8.8"
  }
 },
 "nbformat": 4,
 "nbformat_minor": 5
}
